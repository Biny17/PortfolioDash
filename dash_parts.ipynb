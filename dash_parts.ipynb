{
 "cells": [
  {
   "cell_type": "code",
   "execution_count": 3,
   "metadata": {},
   "outputs": [],
   "source": [
    "import dash\n",
    "import dash_bootstrap_components as dbc\n",
    "from dash import Input, Output, State, html, dcc\n",
    "from pathlib import Path\n",
    "import pandas as pd \n",
    "import numpy as np\n",
    "import pickle\n",
    "import json\n",
    "from area import area\n",
    "import plotly.express as px\n",
    "import plotly.graph_objects as go\n",
    "from jupyter_dash import JupyterDash"
   ]
  },
  {
   "cell_type": "code",
   "execution_count": 4,
   "metadata": {},
   "outputs": [],
   "source": [
    "listingRaw = pd.read_csv(\"http://data.insideairbnb.com/france/ile-de-france/paris/2023-12-12/data/listings.csv.gz\", \n",
    "                         low_memory=False)\n",
    "calendarRaw = pd.read_csv(\"http://data.insideairbnb.com/france/ile-de-france/paris/2023-12-12/data/calendar.csv.gz\", \n",
    "                          low_memory=False)\n",
    "quartierGeo = json.load(open(file=\"neighbourhoods.geojson\", mode=\"r\", encoding='utf-8'))"
   ]
  },
  {
   "cell_type": "code",
   "execution_count": 5,
   "metadata": {},
   "outputs": [],
   "source": [
    "listing = listingRaw.copy()\n",
    "calendar = calendarRaw.copy()"
   ]
  },
  {
   "cell_type": "code",
   "execution_count": 6,
   "metadata": {},
   "outputs": [],
   "source": [
    "prix_m2_arr=\"\"\"1er arrondissement : 13.445 €/m2\n",
    "2eme arrondissement : 12.570 €/m2\n",
    "3eme arrondissement : 12.982 €/m2\n",
    "4eme arrondissement : 13.928 €/m2\n",
    "5eme arrondissement : 13.186 €/m2\n",
    "6eme arrondissement : 15.367 €/m2\n",
    "7eme arrondissement : 14.827 €/m2\n",
    "8eme arrondissement : 12.510 €/m2\n",
    "9eme arrondissement : 11.872 €/m2\n",
    "10eme arrondissement : 11.065 €/m2\n",
    "11eme arrondissement : 11.305 €/m2\n",
    "12eme arrondissement : 10.355 €/m2\n",
    "13eme arrondissement : 9.916 €/m2\n",
    "14eme arrondissement : 10.805 €/m2\n",
    "15eme arrondissement : 10.976 €/m2\n",
    "16eme arrondissement : 12.086 €/m2\n",
    "17eme arrondissement : 11.767 €/m2\n",
    "18eme arrondissement : 10.855 €/m2\n",
    "19eme arrondissement : 9.475 €/m2\n",
    "20eme arrondissement : 9.874 €/m2\"\"\".splitlines()\n",
    "\n",
    "nomToNumero = {\n",
    "    \"Louvre\":\"1er\",\n",
    "    \"Bourse\":\"2eme\",\n",
    "    \"Temple\":\"3eme\",\n",
    "    \"Hôtel-de-Ville\":\"4eme\",\n",
    "    \"Panthéon\":\"5eme\",\n",
    "    \"Luxembourg\":\"6eme\",\n",
    "    \"Palais-Bourbon\":\"7eme\",\n",
    "    \"Élysée\":\"8eme\",\n",
    "    \"Opéra\":\"9eme\",\n",
    "    \"Entrepôt\":\"10eme\",\n",
    "    \"Popincourt\":\"11eme\",\n",
    "    \"Reuilly\":\"12eme\",\n",
    "    \"Gobelins\":\"13eme\",\n",
    "    \"Observatoire\":\"14eme\",\n",
    "    \"Vaugirard\":\"15eme\",\n",
    "    \"Passy\":\"16eme\",\n",
    "    \"Batignolles-Monceau\":\"17eme\",\n",
    "    \"Buttes-Montmartre\":\"18eme\",\n",
    "    \"Buttes-Chaumont\":\"19eme\",\n",
    "    \"Ménilmontant\":\"20eme\"\n",
    "}\n",
    "\n",
    "numeroToNom = {v: k for k, v in nomToNumero.items()}"
   ]
  },
  {
   "cell_type": "code",
   "execution_count": 7,
   "metadata": {},
   "outputs": [],
   "source": [
    "calendar = calendar[calendar.price.notnull()]\n",
    "listing = listing[listing.price.notnull()]\n",
    "listing['bedrooms'] = listing['bedrooms'].fillna(0)\n",
    "listing[\"accommodates\"] = listing[\"accommodates\"].replace(0, np.nan)\n",
    "listing[\"price\"] = listing[\"price\"].apply(lambda x: int(float(x.replace(\"$\", \"\").replace(\",\", \"\"))))\n",
    "\n",
    "keys = [numeroToNom[a] for a in [a[0:a.find(\" \")] for a in prix_m2_arr]]\n",
    "values = [int(a[a.find(\":\")+2:a.find(\"€\")-1].replace(\".\",\"\")) for a in prix_m2_arr]\n",
    "pxmc = pd.DataFrame({\"neighbourhood\" : keys, \"PrixMcarré\": values})\n",
    "pxmc[\"Arrondissement\"] = pxmc[\"neighbourhood\"].apply(lambda x: nomToNumero[x])\n",
    "\n",
    "neighbourhoodArea = dict()\n",
    "for cartier in quartierGeo[\"features\"]:\n",
    "    neighbourhoodArea[cartier[\"properties\"][\"neighbourhood\"]] = round(area(cartier[\"geometry\"]))\n",
    "neighbourhoodArea[\"Reuilly\"] += -9950000 #J'enlève la superficie du bois de Vincenne qui fait partie du 12eme\n",
    "#Nombre de logement par quartier:\n",
    "densite = pd.DataFrame(listing.groupby([\"neighbourhood_cleansed\"])[\"neighbourhood_cleansed\"].count().reset_index(name=\"#logements\"))\n",
    "densite[\"superficie\"] = densite[\"neighbourhood_cleansed\"].apply(lambda x: neighbourhoodArea[x])\n",
    "#nombre de logement par hectares par quartier\n",
    "densite[\"nb/hectares\"] = round(densite[\"#logements\"]/(densite[\"superficie\"]/10000), 2)\n",
    "densite = densite.rename(columns={\"neighbourhood_cleansed\" : 'neighbourhood'})\n",
    "densite[\"Arrondissement\"] = densite[\"neighbourhood\"].apply(lambda x: nomToNumero[x])\n",
    "\n",
    "prix = listing.loc[listing[\"accommodates\"]==2].groupby([\"neighbourhood_cleansed\"])[\"price\"].mean().reset_index(name=\"Prix moyen\")\n",
    "prix[\"Prix moyen\"] = round(prix[\"Prix moyen\"],2)\n",
    "prix = prix.rename(columns={\"neighbourhood_cleansed\":\"neighbourhood\"})\n",
    "prix[\"Arrondissement\"] = prix[\"neighbourhood\"].apply(lambda x: nomToNumero[x])\n",
    "\n",
    "score = listing.groupby(\"neighbourhood_cleansed\").mean(\"review_scores_rating\")[\"review_scores_rating\"].reset_index(name=\"Evaluation\")\n",
    "score[\"Arrondissement\"] = score[\"neighbourhood_cleansed\"].apply(lambda x: nomToNumero[x])\n",
    "score[\"Evaluation\"] = round(score[\"Evaluation\"],2)\n",
    "\n",
    "value = listing.groupby(\"neighbourhood_cleansed\").mean(\"review_scores_value\")[\"review_scores_value\"].reset_index(name=\"Evaluation\")\n",
    "value[\"Arrondissement\"] = value[\"neighbourhood_cleansed\"].apply(lambda x: nomToNumero[x])\n",
    "value[\"Evaluation\"] = round(value[\"Evaluation\"],2)\n",
    "\n",
    "listing.loc[listing[\"bedrooms\"]==0, \"bedrooms\"] = 0.999\n",
    "listing[\"prixParChambre\"] = listing[\"price\"]/listing[\"bedrooms\"]\n",
    "listing.loc[listing[\"bedrooms\"]==0.999, \"bedrooms\"] = 0\n",
    "pPC = listing.groupby(\"bedrooms\")[\"prixParChambre\"].mean().reset_index(name=\"prixParChambre\").rename(columns={\"bedrooms\":\"chambres\"})\n",
    "pPC[\"prixParChambre\"] = pPC[\"prixParChambre\"].apply(lambda x : round(x, 2))\n",
    "pPC[\"chambres\"] = pPC[\"chambres\"].apply(lambda x : round(x))\n",
    "pPC[\"Prix/chambre\"] = pPC['prixParChambre'].apply(lambda x: f\"{round(x)}€\")\n",
    "pPC = pPC.loc[pPC[\"chambres\"] <= 4]\n",
    "\n",
    "\n",
    "Logements = listing.groupby([\"room_type\"])[\"room_type\"].count()\\\n",
    "            .reset_index(name=\"#logements\")\\\n",
    "            .sort_values(by=['#logements'],ascending=False)\n",
    "Logements[\"room_type\"] = [\"Logement entier\", \"Chambre perso\", \"Chambre d'hotel\",\"Dortoir\"]\n",
    "\n",
    "repartition = listing[['price', 'neighbourhood_cleansed', 'bedrooms']]\n",
    "\n",
    "datas = [pxmc,densite,prix,score,value,pPC,Logements,repartition]\n",
    "\n",
    "with open(r\"MyDashApp/src/data.pickle\", 'wb') as f:\n",
    "    pickle.dump(datas, f)"
   ]
  },
  {
   "cell_type": "code",
   "execution_count": 55,
   "metadata": {},
   "outputs": [],
   "source": [
    "app = JupyterDash(__name__, external_stylesheets=[dbc.themes.FLATLY])\n",
    "#HERE = Path(__file__).parent\n",
    "\n",
    "def cartePrixAuMetreCarre():\n",
    "    keys = [numeroToNom[a] for a in [a[0:a.find(\" \")] for a in prix_m2_arr]]\n",
    "    values = [int(a[a.find(\":\")+2:a.find(\"€\")-1].replace(\".\",\"\")) for a in prix_m2_arr]\n",
    "    mapData = pd.DataFrame({\"neighbourhood\" : keys, \"PrixMcarré\": values})\n",
    "    mapData[\"Arrondissement\"] = mapData[\"neighbourhood\"].apply(lambda x: nomToNumero[x])\n",
    "    fig = px.choropleth_mapbox(mapData, geojson=quartierGeo, color='PrixMcarré',\n",
    "                locations='neighbourhood', featureidkey=\"properties.neighbourhood\",\n",
    "                mapbox_style=\"carto-positron\", center={\"lat\":48.86, \"lon\": 2.35}, zoom=11,\n",
    "                opacity=0.7, color_continuous_scale='purples', \n",
    "                hover_data={\n",
    "                    \"neighbourhood\":False,\n",
    "                    \"Arrondissement\":True\n",
    "                    },\n",
    "                labels={\n",
    "                    \"PrixMcarré\":\"Prix du m²\"\n",
    "                })\n",
    "    fig.update_layout(autosize=True)\n",
    "    fig.update_layout(margin={\"r\":0,\"t\":0,\"l\":0,\"b\":0})\n",
    "    return fig\n",
    "\n",
    "def carteDensite():\n",
    "    # Dictionnaire associant chaque quartier à son aire\n",
    "    neighbourhoodArea = dict()\n",
    "    for cartier in quartierGeo[\"features\"]:\n",
    "        neighbourhoodArea[cartier[\"properties\"][\"neighbourhood\"]] = round(area(cartier[\"geometry\"]))\n",
    "    neighbourhoodArea[\"Reuilly\"] += -9950000 #J'enlève la superficie du bois de Vincenne qui fait partie du 12eme\n",
    "    #Nombre de logement par quartier:\n",
    "    mapData = pd.DataFrame(listing.groupby([\"neighbourhood_cleansed\"])[\"neighbourhood_cleansed\"].count().reset_index(name=\"#logements\"))\n",
    "    mapData[\"superficie\"] = mapData[\"neighbourhood_cleansed\"].apply(lambda x: neighbourhoodArea[x])\n",
    "    #nombre de logement par hectares par quartier\n",
    "    mapData[\"nb/hectares\"] = round(mapData[\"#logements\"]/(mapData[\"superficie\"]/10000), 2)\n",
    "    mapData = mapData.rename(columns={\"neighbourhood_cleansed\" : 'neighbourhood'})\n",
    "    mapData[\"Arrondissement\"] = mapData[\"neighbourhood\"].apply(lambda x: nomToNumero[x])\n",
    "    fig = px.choropleth_mapbox(mapData, geojson=quartierGeo, color='nb/hectares',\n",
    "              locations='neighbourhood', featureidkey=\"properties.neighbourhood\",\n",
    "              mapbox_style=\"carto-positron\", center={\"lat\":48.86, \"lon\": 2.35}, zoom=11,\n",
    "              opacity=0.8, color_continuous_scale='reds',\n",
    "              labels={\n",
    "                  \"#logements\":\"Nombre de logements\",\n",
    "                  \"nb/hectares\":\"Nombre de logements par hectares\"\n",
    "                  },\n",
    "              hover_data={\n",
    "                  \"neighbourhood\":False,\n",
    "                  \"Arrondissement\":True,\n",
    "                  \"nb/hectares\":True,\n",
    "                  \"#logements\":True\n",
    "              })\n",
    "    fig.update_layout(autosize=True)\n",
    "    fig.update_layout(margin={\"r\":0,\"t\":0,\"l\":0,\"b\":0})\n",
    "    return fig\n",
    "\n",
    "def cartePrix():\n",
    "    mapData = listing.loc[listing[\"accommodates\"]==2].groupby([\"neighbourhood_cleansed\"])[\"price\"].mean().reset_index(name=\"Prix moyen\")\n",
    "    mapData[\"Prix moyen\"] = round(mapData[\"Prix moyen\"],2)\n",
    "    mapData = mapData.rename(columns={\"neighbourhood_cleansed\":\"neighbourhood\"})\n",
    "    mapData[\"Arrondissement\"] = mapData[\"neighbourhood\"].apply(lambda x: nomToNumero[x])\n",
    "    fig = px.choropleth_mapbox(mapData, geojson=quartierGeo, color='Prix moyen',\n",
    "                locations='neighbourhood', featureidkey=\"properties.neighbourhood\",\n",
    "                mapbox_style=\"carto-positron\", center={\"lat\":48.86, \"lon\": 2.35}, zoom=11,\n",
    "                opacity=0.6, color_continuous_scale='greens',\n",
    "                hover_data={\n",
    "                    \"neighbourhood\":False,\n",
    "                    \"Arrondissement\":True,\n",
    "                })\n",
    "    fig.update_layout(margin={\"r\":0,\"t\":0,\"l\":0,\"b\":0})\n",
    "    fig.update_layout(autosize=True)\n",
    "    return fig\n",
    "\n",
    "def carteScore():\n",
    "    mapData = listing.groupby(\"neighbourhood_cleansed\").mean(\"review_scores_rating\")[\"review_scores_rating\"].reset_index(name=\"Evaluation\")\n",
    "    mapData[\"Arrondissement\"] = mapData[\"neighbourhood_cleansed\"].apply(lambda x: nomToNumero[x])\n",
    "    mapData[\"Evaluation\"] = round(mapData[\"Evaluation\"],2)\n",
    "    fig = px.choropleth_mapbox(mapData, geojson=quartierGeo, color='Evaluation',\n",
    "                locations='neighbourhood_cleansed', featureidkey=\"properties.neighbourhood\",\n",
    "                mapbox_style=\"carto-positron\", center={\"lat\":48.86, \"lon\": 2.35}, zoom=11,\n",
    "                opacity=0.6, color_continuous_scale='blues',\n",
    "                hover_data={\n",
    "                    \"neighbourhood_cleansed\":False,\n",
    "                    \"Arrondissement\":True,\n",
    "                })\n",
    "    fig.update_layout(margin={\"r\":0,\"t\":0,\"l\":0,\"b\":0})\n",
    "    fig.update_layout(autosize=True)\n",
    "    return fig\n",
    "\n",
    "def carteValue():\n",
    "    mapData = listing.groupby(\"neighbourhood_cleansed\").mean(\"review_scores_value\")[\"review_scores_value\"].reset_index(name=\"Evaluation\")\n",
    "    mapData[\"Arrondissement\"] = mapData[\"neighbourhood_cleansed\"].apply(lambda x: nomToNumero[x])\n",
    "    mapData[\"Evaluation\"] = round(mapData[\"Evaluation\"],2)\n",
    "    fig = px.choropleth_mapbox(mapData, geojson=quartierGeo, color='Evaluation',\n",
    "                locations='neighbourhood_cleansed', featureidkey=\"properties.neighbourhood\",\n",
    "                mapbox_style=\"carto-positron\", center={\"lat\":48.86, \"lon\": 2.35}, zoom=11,\n",
    "                opacity=0.6, color_continuous_scale='oranges',\n",
    "                hover_data={\n",
    "                    \"neighbourhood_cleansed\":False,\n",
    "                    \"Arrondissement\":True,\n",
    "                })\n",
    "    fig.update_layout(margin={\"r\":0,\"t\":0,\"l\":0,\"b\":0})\n",
    "    fig.update_layout(autosize=True)\n",
    "    return fig"
   ]
  },
  {
   "cell_type": "code",
   "execution_count": null,
   "metadata": {},
   "outputs": [],
   "source": [
    "partie1 = dbc.Card(\n",
    "    dbc.CardBody(\n",
    "        [\n",
    "            html.Div(\n",
    "                [\n",
    "                    dbc.Label(\"Sélection de la carte A\"),\n",
    "                    dcc.Dropdown(\n",
    "                        options=[\n",
    "                            {'label':'Prix moyen', 'value':'cartePrix'},\n",
    "                            {'label':'Densité de logements', 'value':'carteDensite'},\n",
    "                            {'label':'Prix du mètre carré', 'value':'cartePrixAuMetreCarre'},\n",
    "                            {'label':'Note générale', 'value':'carteScore'},\n",
    "                            {'label':'Note qualité-prix', 'value':'carteValue'}\n",
    "                        ],\n",
    "                        value = 'cartePrix',\n",
    "                        id=\"DD graph1\",\n",
    "                        clearable=False\n",
    "                        ),\n",
    "                    html.H4(\"Nom du graphique 1\", id = \"Titre1\")\n",
    "                ]\n",
    "            ),\n",
    "            dcc.Graph(\n",
    "                id=\"graph1\",\n",
    "                figure=cartePrix()\n",
    "            )\n",
    "        ]\n",
    "    ),\n",
    "    id=\"carte1\"\n",
    ")\n",
    "\n",
    "partie2 = dbc.Card(\n",
    "    dbc.CardBody(\n",
    "        [\n",
    "            html.Div(\n",
    "                [\n",
    "                    dbc.Label(\"Sélection de la carte B:\"),\n",
    "                    dcc.Dropdown(\n",
    "                        options=[\n",
    "                            {'label':'Prix moyen', 'value':'cartePrix'},\n",
    "                            {'label':'Densité de logements', 'value':'carteDensite'},\n",
    "                            {'label':'Prix du mètre carré', 'value':'cartePrixAuMetreCarre'},\n",
    "                            {'label':'Note générale', 'value':'carteScore'},\n",
    "                            {'label':'Note qualité-prix', 'value':'carteValue'}\n",
    "                        ],\n",
    "                        value = 'carteDensite',\n",
    "                        id=\"DD graph2\",\n",
    "                        clearable=False\n",
    "                        ),\n",
    "                    html.H4(id='Titre2')\n",
    "                ]\n",
    "            ),\n",
    "            dcc.Graph(\n",
    "                id=\"graph2\",\n",
    "                figure=carteDensite()\n",
    "            )\n",
    "        ]\n",
    "    ),\n",
    "    id=\"carte2\"\n",
    ")\n",
    "\n",
    "cards1 = html.Div(\n",
    "    [\n",
    "        dbc.Row(\n",
    "            [\n",
    "                dbc.Col(partie1),\n",
    "                dbc.Col(partie2)\n",
    "            ],\n",
    "            className=\"mb-6\"\n",
    "        )\n",
    "    ]\n",
    ")\n",
    "\n",
    "@app.callback(\n",
    "    Output('graph2', 'figure'),\n",
    "    Input('DD graph2', 'value')\n",
    ")\n",
    "def update_graph2(choix):\n",
    "    return eval(f\"{choix}()\")\n",
    "\n",
    "@app.callback(\n",
    "    Output('Titre2', 'children'),\n",
    "    Input('DD graph2', 'value')\n",
    ")\n",
    "def update_graph_title2(choix):\n",
    "    if choix == 'cartePrix': return \"Prix moyen pour 2 personnes\"\n",
    "    if choix == 'carteDensite': return \"Nombre de logements par hectare\"\n",
    "    if choix == 'cartePrixAuMetreCarre': return \"Prix du m²\"\n",
    "    if choix == 'carteScore': return \"Note générale du logement sur 5\"\n",
    "    if choix == 'carteValue': return \"Note rapport qualité-prix sur 5\"\n",
    "    \n",
    "@app.callback(\n",
    "    Output('graph1', 'figure'),\n",
    "    Input('DD graph1', 'value')\n",
    ")\n",
    "def update_graph1(choix):\n",
    "    return eval(f\"{choix}()\")\n",
    "\n",
    "@app.callback(\n",
    "    Output('Titre1', 'children'),\n",
    "    Input('DD graph1', 'value')\n",
    ")\n",
    "def update_graph_title1(choix):\n",
    "    if choix == 'cartePrix': return \"Prix moyen pour 2 personnes\"\n",
    "    if choix == 'carteDensite': return \"Nombre de logements par hectare\"\n",
    "    if choix == 'cartePrixAuMetreCarre': return \"Prix du m²\"\n",
    "    if choix == 'carteScore': return \"Note générale du logement sur 5\"\n",
    "    if choix == 'carteValue': return \"Note rapport qualité-prix sur 5\"\n",
    "\n",
    "app.layout = cards1\n",
    "app.run_server(port='8888')"
   ]
  },
  {
   "cell_type": "code",
   "execution_count": null,
   "metadata": {},
   "outputs": [],
   "source": [
    "app = JupyterDash(__name__, external_stylesheets=[dbc.themes.FLATLY])\n",
    "\n",
    "def prixParChambre():\n",
    "    colors = [\"#89CFF0\"]*5\n",
    "    colors[2]=\"#DC143C\"\n",
    "    listing.loc[listing[\"bedrooms\"]==0, \"bedrooms\"] = 0.999\n",
    "    listing[\"prixParChambre\"] = listing[\"price\"]/listing[\"bedrooms\"]\n",
    "    listing.loc[listing[\"bedrooms\"]==0.999, \"bedrooms\"] = 0\n",
    "    pPC = listing.groupby(\"bedrooms\")[\"prixParChambre\"].mean().reset_index(name=\"prixParChambre\").rename(columns={\"bedrooms\":\"chambres\"})\n",
    "    pPC[\"prixParChambre\"] = pPC[\"prixParChambre\"].apply(lambda x : round(x, 2))\n",
    "    pPC[\"chambres\"] = pPC[\"chambres\"].apply(lambda x : round(x))\n",
    "    pPC[\"Prix/chambre\"] = pPC['prixParChambre'].apply(lambda x: f\"{round(x)}€\")\n",
    "    pPC = pPC.loc[pPC[\"chambres\"] <= 4]\n",
    "    fig = px.bar(pPC, x='chambres', y='prixParChambre', text='Prix/chambre',\n",
    "                 hover_data={'prixParChambre':False},\n",
    "                 labels={\"prixParChambre\":\"Prix/Chambre\"})\n",
    "    fig.update_traces(marker_color=colors, marker_line_color='rgb(0,0,0)',\n",
    "                    marker_line_width=2, opacity=1)\n",
    "    fig.update_layout(title={\n",
    "        \"text\":\"Prendre un AirBNB à plusieurs est-il rentable ?\",\n",
    "        \"x\":0.5,\n",
    "        \"font\":{\n",
    "            \"size\":20\n",
    "        }\n",
    "    })\n",
    "    fig\n",
    "    return fig\n",
    "\n",
    "def typeLogement():\n",
    "    Logements = listing.groupby([\"room_type\"])[\"room_type\"].count()\\\n",
    "                .reset_index(name=\"#logements\")\\\n",
    "                .sort_values(by=['#logements'],ascending=False)\n",
    "    Logements[\"room_type\"] = [\"Logement entier\", \"Chambre perso\", \"Chambre d'hotel\",\"Dortoir\"]\n",
    "    fig = px.pie(Logements, values=\"#logements\", names=\"room_type\", \n",
    "                 color_discrete_sequence=px.colors.qualitative.Safe)\n",
    "    fig.update_layout(title={\n",
    "        \"text\":\"Type de logements:\",\n",
    "        \"x\":0.5,\n",
    "        \"font\":{\n",
    "            \"size\":20\n",
    "        }\n",
    "    })\n",
    "    return fig\n",
    "\n",
    "\n",
    "histoPrix = dbc.Card(children=[dcc.Graph(id=\"graph3\",figure=prixParChambre())])\n",
    "pieType = dbc.Card(children=[dcc.Graph(id=\"graph4\", figure=typeLogement())])\n",
    "\n",
    "cards2 = dbc.Card([\n",
    "    #titlerow,\n",
    "    dbc.Row([\n",
    "        dbc.Col(histoPrix, width=7),\n",
    "        dbc.Col(pieType, width=5)\n",
    "    ],\n",
    "    align=\"center\")\n",
    "],\n",
    "body=True)\n",
    "\n",
    "app.layout = cards2\n",
    "app.run_server(mode='inline', port='8888')"
   ]
  },
  {
   "cell_type": "code",
   "execution_count": 7,
   "metadata": {},
   "outputs": [
    {
     "data": {
      "text/html": [
       "<div>\n",
       "<style scoped>\n",
       "    .dataframe tbody tr th:only-of-type {\n",
       "        vertical-align: middle;\n",
       "    }\n",
       "\n",
       "    .dataframe tbody tr th {\n",
       "        vertical-align: top;\n",
       "    }\n",
       "\n",
       "    .dataframe thead th {\n",
       "        text-align: right;\n",
       "    }\n",
       "</style>\n",
       "<table border=\"1\" class=\"dataframe\">\n",
       "  <thead>\n",
       "    <tr style=\"text-align: right;\">\n",
       "      <th></th>\n",
       "      <th>price</th>\n",
       "      <th>neighbourhood_cleansed</th>\n",
       "      <th>bedrooms</th>\n",
       "    </tr>\n",
       "  </thead>\n",
       "  <tbody>\n",
       "    <tr>\n",
       "      <th>0</th>\n",
       "      <td>150</td>\n",
       "      <td>Observatoire</td>\n",
       "      <td>0.0</td>\n",
       "    </tr>\n",
       "    <tr>\n",
       "      <th>1</th>\n",
       "      <td>146</td>\n",
       "      <td>Hôtel-de-Ville</td>\n",
       "      <td>0.0</td>\n",
       "    </tr>\n",
       "    <tr>\n",
       "      <th>2</th>\n",
       "      <td>110</td>\n",
       "      <td>Entrepôt</td>\n",
       "      <td>0.0</td>\n",
       "    </tr>\n",
       "    <tr>\n",
       "      <th>3</th>\n",
       "      <td>140</td>\n",
       "      <td>Hôtel-de-Ville</td>\n",
       "      <td>0.0</td>\n",
       "    </tr>\n",
       "    <tr>\n",
       "      <th>4</th>\n",
       "      <td>180</td>\n",
       "      <td>Opéra</td>\n",
       "      <td>0.0</td>\n",
       "    </tr>\n",
       "  </tbody>\n",
       "</table>\n",
       "</div>"
      ],
      "text/plain": [
       "   price neighbourhood_cleansed  bedrooms\n",
       "0    150           Observatoire       0.0\n",
       "1    146         Hôtel-de-Ville       0.0\n",
       "2    110               Entrepôt       0.0\n",
       "3    140         Hôtel-de-Ville       0.0\n",
       "4    180                  Opéra       0.0"
      ]
     },
     "execution_count": 7,
     "metadata": {},
     "output_type": "execute_result"
    }
   ],
   "source": [
    "repartition.head()"
   ]
  },
  {
   "cell_type": "code",
   "execution_count": 15,
   "metadata": {},
   "outputs": [
    {
     "data": {
      "text/plain": [
       "price                     67073\n",
       "neighbourhood_cleansed    67073\n",
       "bedrooms                  67073\n",
       "dtype: int64"
      ]
     },
     "execution_count": 15,
     "metadata": {},
     "output_type": "execute_result"
    }
   ],
   "source": [
    "repartition.loc[repartition['bedrooms'] == 0].count()"
   ]
  },
  {
   "cell_type": "code",
   "execution_count": 16,
   "metadata": {},
   "outputs": [
    {
     "data": {
      "text/plain": [
       "0       NaN\n",
       "1       NaN\n",
       "2       NaN\n",
       "3       NaN\n",
       "4       NaN\n",
       "         ..\n",
       "74324   NaN\n",
       "74325   NaN\n",
       "74326   NaN\n",
       "74327   NaN\n",
       "74328   NaN\n",
       "Name: bedrooms, Length: 74329, dtype: float64"
      ]
     },
     "execution_count": 16,
     "metadata": {},
     "output_type": "execute_result"
    }
   ],
   "source": [
    "listingRaw[\"bedrooms\"]"
   ]
  },
  {
   "cell_type": "code",
   "execution_count": 8,
   "metadata": {},
   "outputs": [],
   "source": [
    "def prixPlot(chambres, arrond):\n",
    "    prix = repartition[['price', 'neighbourhood_cleansed', 'bedrooms']]\n",
    "    if chambres != 'Tout':\n",
    "        prix = prix.loc[(prix['bedrooms'] == int(chambres))]\n",
    "    if arrond != 'Tout':\n",
    "        prix = prix.loc[(prix['neighbourhood_cleansed'] == numeroToNom[arrond])]\n",
    "    #considérons que 93% des valeurs sinon distribution trop grande, graphique moche\n",
    "    low, high = np.percentile(prix['price'], 0), np.percentile(prix['price'], 93) \n",
    "    prix = prix.loc[(prix['price'] < high) & (prix['price'] >= low)]['price']\n",
    "    prix = prix.rename(\"Prix en € pour une nuit\")\n",
    "    fig = px.histogram(prix, x=\"Prix en € pour une nuit\", \n",
    "                       nbins=30, \n",
    "                       color_discrete_sequence=['#800020'],\n",
    "                       template=\"plotly_white\"\n",
    "                       )\n",
    "    fig.update_layout(title={\n",
    "        \"text\":\"Répartition des prix:\",\n",
    "        \"x\":0.5,\n",
    "        \"font\":{\n",
    "            \"size\":20\n",
    "        }\n",
    "    })\n",
    "    return fig"
   ]
  },
  {
   "cell_type": "code",
   "execution_count": 10,
   "metadata": {},
   "outputs": [
    {
     "data": {
      "application/vnd.plotly.v1+json": {
       "config": {
        "plotlyServerURL": "https://plot.ly"
       },
       "data": [
        {
         "alignmentgroup": "True",
         "bingroup": "x",
         "hovertemplate": "Prix en € pour une nuit=%{x}<br>count=%{y}<extra></extra>",
         "legendgroup": "",
         "marker": {
          "color": "#800020",
          "pattern": {
           "shape": ""
          }
         },
         "name": "",
         "nbinsx": 30,
         "offsetgroup": "",
         "orientation": "v",
         "showlegend": false,
         "type": "histogram",
         "x": [
          4500,
          4500,
          980,
          1303,
          2300,
          3900,
          1765,
          1529,
          15655,
          13980
         ],
         "xaxis": "x",
         "yaxis": "y"
        }
       ],
       "layout": {
        "barmode": "relative",
        "legend": {
         "tracegroupgap": 0
        },
        "margin": {
         "t": 60
        },
        "template": {
         "data": {
          "bar": [
           {
            "error_x": {
             "color": "#2a3f5f"
            },
            "error_y": {
             "color": "#2a3f5f"
            },
            "marker": {
             "line": {
              "color": "white",
              "width": 0.5
             },
             "pattern": {
              "fillmode": "overlay",
              "size": 10,
              "solidity": 0.2
             }
            },
            "type": "bar"
           }
          ],
          "barpolar": [
           {
            "marker": {
             "line": {
              "color": "white",
              "width": 0.5
             },
             "pattern": {
              "fillmode": "overlay",
              "size": 10,
              "solidity": 0.2
             }
            },
            "type": "barpolar"
           }
          ],
          "carpet": [
           {
            "aaxis": {
             "endlinecolor": "#2a3f5f",
             "gridcolor": "#C8D4E3",
             "linecolor": "#C8D4E3",
             "minorgridcolor": "#C8D4E3",
             "startlinecolor": "#2a3f5f"
            },
            "baxis": {
             "endlinecolor": "#2a3f5f",
             "gridcolor": "#C8D4E3",
             "linecolor": "#C8D4E3",
             "minorgridcolor": "#C8D4E3",
             "startlinecolor": "#2a3f5f"
            },
            "type": "carpet"
           }
          ],
          "choropleth": [
           {
            "colorbar": {
             "outlinewidth": 0,
             "ticks": ""
            },
            "type": "choropleth"
           }
          ],
          "contour": [
           {
            "colorbar": {
             "outlinewidth": 0,
             "ticks": ""
            },
            "colorscale": [
             [
              0,
              "#0d0887"
             ],
             [
              0.1111111111111111,
              "#46039f"
             ],
             [
              0.2222222222222222,
              "#7201a8"
             ],
             [
              0.3333333333333333,
              "#9c179e"
             ],
             [
              0.4444444444444444,
              "#bd3786"
             ],
             [
              0.5555555555555556,
              "#d8576b"
             ],
             [
              0.6666666666666666,
              "#ed7953"
             ],
             [
              0.7777777777777778,
              "#fb9f3a"
             ],
             [
              0.8888888888888888,
              "#fdca26"
             ],
             [
              1,
              "#f0f921"
             ]
            ],
            "type": "contour"
           }
          ],
          "contourcarpet": [
           {
            "colorbar": {
             "outlinewidth": 0,
             "ticks": ""
            },
            "type": "contourcarpet"
           }
          ],
          "heatmap": [
           {
            "colorbar": {
             "outlinewidth": 0,
             "ticks": ""
            },
            "colorscale": [
             [
              0,
              "#0d0887"
             ],
             [
              0.1111111111111111,
              "#46039f"
             ],
             [
              0.2222222222222222,
              "#7201a8"
             ],
             [
              0.3333333333333333,
              "#9c179e"
             ],
             [
              0.4444444444444444,
              "#bd3786"
             ],
             [
              0.5555555555555556,
              "#d8576b"
             ],
             [
              0.6666666666666666,
              "#ed7953"
             ],
             [
              0.7777777777777778,
              "#fb9f3a"
             ],
             [
              0.8888888888888888,
              "#fdca26"
             ],
             [
              1,
              "#f0f921"
             ]
            ],
            "type": "heatmap"
           }
          ],
          "heatmapgl": [
           {
            "colorbar": {
             "outlinewidth": 0,
             "ticks": ""
            },
            "colorscale": [
             [
              0,
              "#0d0887"
             ],
             [
              0.1111111111111111,
              "#46039f"
             ],
             [
              0.2222222222222222,
              "#7201a8"
             ],
             [
              0.3333333333333333,
              "#9c179e"
             ],
             [
              0.4444444444444444,
              "#bd3786"
             ],
             [
              0.5555555555555556,
              "#d8576b"
             ],
             [
              0.6666666666666666,
              "#ed7953"
             ],
             [
              0.7777777777777778,
              "#fb9f3a"
             ],
             [
              0.8888888888888888,
              "#fdca26"
             ],
             [
              1,
              "#f0f921"
             ]
            ],
            "type": "heatmapgl"
           }
          ],
          "histogram": [
           {
            "marker": {
             "pattern": {
              "fillmode": "overlay",
              "size": 10,
              "solidity": 0.2
             }
            },
            "type": "histogram"
           }
          ],
          "histogram2d": [
           {
            "colorbar": {
             "outlinewidth": 0,
             "ticks": ""
            },
            "colorscale": [
             [
              0,
              "#0d0887"
             ],
             [
              0.1111111111111111,
              "#46039f"
             ],
             [
              0.2222222222222222,
              "#7201a8"
             ],
             [
              0.3333333333333333,
              "#9c179e"
             ],
             [
              0.4444444444444444,
              "#bd3786"
             ],
             [
              0.5555555555555556,
              "#d8576b"
             ],
             [
              0.6666666666666666,
              "#ed7953"
             ],
             [
              0.7777777777777778,
              "#fb9f3a"
             ],
             [
              0.8888888888888888,
              "#fdca26"
             ],
             [
              1,
              "#f0f921"
             ]
            ],
            "type": "histogram2d"
           }
          ],
          "histogram2dcontour": [
           {
            "colorbar": {
             "outlinewidth": 0,
             "ticks": ""
            },
            "colorscale": [
             [
              0,
              "#0d0887"
             ],
             [
              0.1111111111111111,
              "#46039f"
             ],
             [
              0.2222222222222222,
              "#7201a8"
             ],
             [
              0.3333333333333333,
              "#9c179e"
             ],
             [
              0.4444444444444444,
              "#bd3786"
             ],
             [
              0.5555555555555556,
              "#d8576b"
             ],
             [
              0.6666666666666666,
              "#ed7953"
             ],
             [
              0.7777777777777778,
              "#fb9f3a"
             ],
             [
              0.8888888888888888,
              "#fdca26"
             ],
             [
              1,
              "#f0f921"
             ]
            ],
            "type": "histogram2dcontour"
           }
          ],
          "mesh3d": [
           {
            "colorbar": {
             "outlinewidth": 0,
             "ticks": ""
            },
            "type": "mesh3d"
           }
          ],
          "parcoords": [
           {
            "line": {
             "colorbar": {
              "outlinewidth": 0,
              "ticks": ""
             }
            },
            "type": "parcoords"
           }
          ],
          "pie": [
           {
            "automargin": true,
            "type": "pie"
           }
          ],
          "scatter": [
           {
            "fillpattern": {
             "fillmode": "overlay",
             "size": 10,
             "solidity": 0.2
            },
            "type": "scatter"
           }
          ],
          "scatter3d": [
           {
            "line": {
             "colorbar": {
              "outlinewidth": 0,
              "ticks": ""
             }
            },
            "marker": {
             "colorbar": {
              "outlinewidth": 0,
              "ticks": ""
             }
            },
            "type": "scatter3d"
           }
          ],
          "scattercarpet": [
           {
            "marker": {
             "colorbar": {
              "outlinewidth": 0,
              "ticks": ""
             }
            },
            "type": "scattercarpet"
           }
          ],
          "scattergeo": [
           {
            "marker": {
             "colorbar": {
              "outlinewidth": 0,
              "ticks": ""
             }
            },
            "type": "scattergeo"
           }
          ],
          "scattergl": [
           {
            "marker": {
             "colorbar": {
              "outlinewidth": 0,
              "ticks": ""
             }
            },
            "type": "scattergl"
           }
          ],
          "scattermapbox": [
           {
            "marker": {
             "colorbar": {
              "outlinewidth": 0,
              "ticks": ""
             }
            },
            "type": "scattermapbox"
           }
          ],
          "scatterpolar": [
           {
            "marker": {
             "colorbar": {
              "outlinewidth": 0,
              "ticks": ""
             }
            },
            "type": "scatterpolar"
           }
          ],
          "scatterpolargl": [
           {
            "marker": {
             "colorbar": {
              "outlinewidth": 0,
              "ticks": ""
             }
            },
            "type": "scatterpolargl"
           }
          ],
          "scatterternary": [
           {
            "marker": {
             "colorbar": {
              "outlinewidth": 0,
              "ticks": ""
             }
            },
            "type": "scatterternary"
           }
          ],
          "surface": [
           {
            "colorbar": {
             "outlinewidth": 0,
             "ticks": ""
            },
            "colorscale": [
             [
              0,
              "#0d0887"
             ],
             [
              0.1111111111111111,
              "#46039f"
             ],
             [
              0.2222222222222222,
              "#7201a8"
             ],
             [
              0.3333333333333333,
              "#9c179e"
             ],
             [
              0.4444444444444444,
              "#bd3786"
             ],
             [
              0.5555555555555556,
              "#d8576b"
             ],
             [
              0.6666666666666666,
              "#ed7953"
             ],
             [
              0.7777777777777778,
              "#fb9f3a"
             ],
             [
              0.8888888888888888,
              "#fdca26"
             ],
             [
              1,
              "#f0f921"
             ]
            ],
            "type": "surface"
           }
          ],
          "table": [
           {
            "cells": {
             "fill": {
              "color": "#EBF0F8"
             },
             "line": {
              "color": "white"
             }
            },
            "header": {
             "fill": {
              "color": "#C8D4E3"
             },
             "line": {
              "color": "white"
             }
            },
            "type": "table"
           }
          ]
         },
         "layout": {
          "annotationdefaults": {
           "arrowcolor": "#2a3f5f",
           "arrowhead": 0,
           "arrowwidth": 1
          },
          "autotypenumbers": "strict",
          "coloraxis": {
           "colorbar": {
            "outlinewidth": 0,
            "ticks": ""
           }
          },
          "colorscale": {
           "diverging": [
            [
             0,
             "#8e0152"
            ],
            [
             0.1,
             "#c51b7d"
            ],
            [
             0.2,
             "#de77ae"
            ],
            [
             0.3,
             "#f1b6da"
            ],
            [
             0.4,
             "#fde0ef"
            ],
            [
             0.5,
             "#f7f7f7"
            ],
            [
             0.6,
             "#e6f5d0"
            ],
            [
             0.7,
             "#b8e186"
            ],
            [
             0.8,
             "#7fbc41"
            ],
            [
             0.9,
             "#4d9221"
            ],
            [
             1,
             "#276419"
            ]
           ],
           "sequential": [
            [
             0,
             "#0d0887"
            ],
            [
             0.1111111111111111,
             "#46039f"
            ],
            [
             0.2222222222222222,
             "#7201a8"
            ],
            [
             0.3333333333333333,
             "#9c179e"
            ],
            [
             0.4444444444444444,
             "#bd3786"
            ],
            [
             0.5555555555555556,
             "#d8576b"
            ],
            [
             0.6666666666666666,
             "#ed7953"
            ],
            [
             0.7777777777777778,
             "#fb9f3a"
            ],
            [
             0.8888888888888888,
             "#fdca26"
            ],
            [
             1,
             "#f0f921"
            ]
           ],
           "sequentialminus": [
            [
             0,
             "#0d0887"
            ],
            [
             0.1111111111111111,
             "#46039f"
            ],
            [
             0.2222222222222222,
             "#7201a8"
            ],
            [
             0.3333333333333333,
             "#9c179e"
            ],
            [
             0.4444444444444444,
             "#bd3786"
            ],
            [
             0.5555555555555556,
             "#d8576b"
            ],
            [
             0.6666666666666666,
             "#ed7953"
            ],
            [
             0.7777777777777778,
             "#fb9f3a"
            ],
            [
             0.8888888888888888,
             "#fdca26"
            ],
            [
             1,
             "#f0f921"
            ]
           ]
          },
          "colorway": [
           "#636efa",
           "#EF553B",
           "#00cc96",
           "#ab63fa",
           "#FFA15A",
           "#19d3f3",
           "#FF6692",
           "#B6E880",
           "#FF97FF",
           "#FECB52"
          ],
          "font": {
           "color": "#2a3f5f"
          },
          "geo": {
           "bgcolor": "white",
           "lakecolor": "white",
           "landcolor": "white",
           "showlakes": true,
           "showland": true,
           "subunitcolor": "#C8D4E3"
          },
          "hoverlabel": {
           "align": "left"
          },
          "hovermode": "closest",
          "mapbox": {
           "style": "light"
          },
          "paper_bgcolor": "white",
          "plot_bgcolor": "white",
          "polar": {
           "angularaxis": {
            "gridcolor": "#EBF0F8",
            "linecolor": "#EBF0F8",
            "ticks": ""
           },
           "bgcolor": "white",
           "radialaxis": {
            "gridcolor": "#EBF0F8",
            "linecolor": "#EBF0F8",
            "ticks": ""
           }
          },
          "scene": {
           "xaxis": {
            "backgroundcolor": "white",
            "gridcolor": "#DFE8F3",
            "gridwidth": 2,
            "linecolor": "#EBF0F8",
            "showbackground": true,
            "ticks": "",
            "zerolinecolor": "#EBF0F8"
           },
           "yaxis": {
            "backgroundcolor": "white",
            "gridcolor": "#DFE8F3",
            "gridwidth": 2,
            "linecolor": "#EBF0F8",
            "showbackground": true,
            "ticks": "",
            "zerolinecolor": "#EBF0F8"
           },
           "zaxis": {
            "backgroundcolor": "white",
            "gridcolor": "#DFE8F3",
            "gridwidth": 2,
            "linecolor": "#EBF0F8",
            "showbackground": true,
            "ticks": "",
            "zerolinecolor": "#EBF0F8"
           }
          },
          "shapedefaults": {
           "line": {
            "color": "#2a3f5f"
           }
          },
          "ternary": {
           "aaxis": {
            "gridcolor": "#DFE8F3",
            "linecolor": "#A2B1C6",
            "ticks": ""
           },
           "baxis": {
            "gridcolor": "#DFE8F3",
            "linecolor": "#A2B1C6",
            "ticks": ""
           },
           "bgcolor": "white",
           "caxis": {
            "gridcolor": "#DFE8F3",
            "linecolor": "#A2B1C6",
            "ticks": ""
           }
          },
          "title": {
           "x": 0.05
          },
          "xaxis": {
           "automargin": true,
           "gridcolor": "#EBF0F8",
           "linecolor": "#EBF0F8",
           "ticks": "",
           "title": {
            "standoff": 15
           },
           "zerolinecolor": "#EBF0F8",
           "zerolinewidth": 2
          },
          "yaxis": {
           "automargin": true,
           "gridcolor": "#EBF0F8",
           "linecolor": "#EBF0F8",
           "ticks": "",
           "title": {
            "standoff": 15
           },
           "zerolinecolor": "#EBF0F8",
           "zerolinewidth": 2
          }
         }
        },
        "title": {
         "font": {
          "size": 20
         },
         "text": "Répartition des prix:",
         "x": 0.5
        },
        "xaxis": {
         "anchor": "y",
         "domain": [
          0,
          1
         ],
         "title": {
          "text": "Prix en € pour une nuit"
         }
        },
        "yaxis": {
         "anchor": "x",
         "domain": [
          0,
          1
         ],
         "title": {
          "text": "count"
         }
        }
       }
      },
      "text/html": [
       "<div>                            <div id=\"be78a31a-9e4a-40c7-821a-966b5532b1da\" class=\"plotly-graph-div\" style=\"height:525px; width:100%;\"></div>            <script type=\"text/javascript\">                require([\"plotly\"], function(Plotly) {                    window.PLOTLYENV=window.PLOTLYENV || {};                                    if (document.getElementById(\"be78a31a-9e4a-40c7-821a-966b5532b1da\")) {                    Plotly.newPlot(                        \"be78a31a-9e4a-40c7-821a-966b5532b1da\",                        [{\"alignmentgroup\":\"True\",\"bingroup\":\"x\",\"hovertemplate\":\"Prix en \\u20ac pour une nuit=%{x}\\u003cbr\\u003ecount=%{y}\\u003cextra\\u003e\\u003c\\u002fextra\\u003e\",\"legendgroup\":\"\",\"marker\":{\"color\":\"#800020\",\"pattern\":{\"shape\":\"\"}},\"name\":\"\",\"nbinsx\":30,\"offsetgroup\":\"\",\"orientation\":\"v\",\"showlegend\":false,\"x\":[4500,4500,980,1303,2300,3900,1765,1529,15655,13980],\"xaxis\":\"x\",\"yaxis\":\"y\",\"type\":\"histogram\"}],                        {\"template\":{\"data\":{\"barpolar\":[{\"marker\":{\"line\":{\"color\":\"white\",\"width\":0.5},\"pattern\":{\"fillmode\":\"overlay\",\"size\":10,\"solidity\":0.2}},\"type\":\"barpolar\"}],\"bar\":[{\"error_x\":{\"color\":\"#2a3f5f\"},\"error_y\":{\"color\":\"#2a3f5f\"},\"marker\":{\"line\":{\"color\":\"white\",\"width\":0.5},\"pattern\":{\"fillmode\":\"overlay\",\"size\":10,\"solidity\":0.2}},\"type\":\"bar\"}],\"carpet\":[{\"aaxis\":{\"endlinecolor\":\"#2a3f5f\",\"gridcolor\":\"#C8D4E3\",\"linecolor\":\"#C8D4E3\",\"minorgridcolor\":\"#C8D4E3\",\"startlinecolor\":\"#2a3f5f\"},\"baxis\":{\"endlinecolor\":\"#2a3f5f\",\"gridcolor\":\"#C8D4E3\",\"linecolor\":\"#C8D4E3\",\"minorgridcolor\":\"#C8D4E3\",\"startlinecolor\":\"#2a3f5f\"},\"type\":\"carpet\"}],\"choropleth\":[{\"colorbar\":{\"outlinewidth\":0,\"ticks\":\"\"},\"type\":\"choropleth\"}],\"contourcarpet\":[{\"colorbar\":{\"outlinewidth\":0,\"ticks\":\"\"},\"type\":\"contourcarpet\"}],\"contour\":[{\"colorbar\":{\"outlinewidth\":0,\"ticks\":\"\"},\"colorscale\":[[0.0,\"#0d0887\"],[0.1111111111111111,\"#46039f\"],[0.2222222222222222,\"#7201a8\"],[0.3333333333333333,\"#9c179e\"],[0.4444444444444444,\"#bd3786\"],[0.5555555555555556,\"#d8576b\"],[0.6666666666666666,\"#ed7953\"],[0.7777777777777778,\"#fb9f3a\"],[0.8888888888888888,\"#fdca26\"],[1.0,\"#f0f921\"]],\"type\":\"contour\"}],\"heatmapgl\":[{\"colorbar\":{\"outlinewidth\":0,\"ticks\":\"\"},\"colorscale\":[[0.0,\"#0d0887\"],[0.1111111111111111,\"#46039f\"],[0.2222222222222222,\"#7201a8\"],[0.3333333333333333,\"#9c179e\"],[0.4444444444444444,\"#bd3786\"],[0.5555555555555556,\"#d8576b\"],[0.6666666666666666,\"#ed7953\"],[0.7777777777777778,\"#fb9f3a\"],[0.8888888888888888,\"#fdca26\"],[1.0,\"#f0f921\"]],\"type\":\"heatmapgl\"}],\"heatmap\":[{\"colorbar\":{\"outlinewidth\":0,\"ticks\":\"\"},\"colorscale\":[[0.0,\"#0d0887\"],[0.1111111111111111,\"#46039f\"],[0.2222222222222222,\"#7201a8\"],[0.3333333333333333,\"#9c179e\"],[0.4444444444444444,\"#bd3786\"],[0.5555555555555556,\"#d8576b\"],[0.6666666666666666,\"#ed7953\"],[0.7777777777777778,\"#fb9f3a\"],[0.8888888888888888,\"#fdca26\"],[1.0,\"#f0f921\"]],\"type\":\"heatmap\"}],\"histogram2dcontour\":[{\"colorbar\":{\"outlinewidth\":0,\"ticks\":\"\"},\"colorscale\":[[0.0,\"#0d0887\"],[0.1111111111111111,\"#46039f\"],[0.2222222222222222,\"#7201a8\"],[0.3333333333333333,\"#9c179e\"],[0.4444444444444444,\"#bd3786\"],[0.5555555555555556,\"#d8576b\"],[0.6666666666666666,\"#ed7953\"],[0.7777777777777778,\"#fb9f3a\"],[0.8888888888888888,\"#fdca26\"],[1.0,\"#f0f921\"]],\"type\":\"histogram2dcontour\"}],\"histogram2d\":[{\"colorbar\":{\"outlinewidth\":0,\"ticks\":\"\"},\"colorscale\":[[0.0,\"#0d0887\"],[0.1111111111111111,\"#46039f\"],[0.2222222222222222,\"#7201a8\"],[0.3333333333333333,\"#9c179e\"],[0.4444444444444444,\"#bd3786\"],[0.5555555555555556,\"#d8576b\"],[0.6666666666666666,\"#ed7953\"],[0.7777777777777778,\"#fb9f3a\"],[0.8888888888888888,\"#fdca26\"],[1.0,\"#f0f921\"]],\"type\":\"histogram2d\"}],\"histogram\":[{\"marker\":{\"pattern\":{\"fillmode\":\"overlay\",\"size\":10,\"solidity\":0.2}},\"type\":\"histogram\"}],\"mesh3d\":[{\"colorbar\":{\"outlinewidth\":0,\"ticks\":\"\"},\"type\":\"mesh3d\"}],\"parcoords\":[{\"line\":{\"colorbar\":{\"outlinewidth\":0,\"ticks\":\"\"}},\"type\":\"parcoords\"}],\"pie\":[{\"automargin\":true,\"type\":\"pie\"}],\"scatter3d\":[{\"line\":{\"colorbar\":{\"outlinewidth\":0,\"ticks\":\"\"}},\"marker\":{\"colorbar\":{\"outlinewidth\":0,\"ticks\":\"\"}},\"type\":\"scatter3d\"}],\"scattercarpet\":[{\"marker\":{\"colorbar\":{\"outlinewidth\":0,\"ticks\":\"\"}},\"type\":\"scattercarpet\"}],\"scattergeo\":[{\"marker\":{\"colorbar\":{\"outlinewidth\":0,\"ticks\":\"\"}},\"type\":\"scattergeo\"}],\"scattergl\":[{\"marker\":{\"colorbar\":{\"outlinewidth\":0,\"ticks\":\"\"}},\"type\":\"scattergl\"}],\"scattermapbox\":[{\"marker\":{\"colorbar\":{\"outlinewidth\":0,\"ticks\":\"\"}},\"type\":\"scattermapbox\"}],\"scatterpolargl\":[{\"marker\":{\"colorbar\":{\"outlinewidth\":0,\"ticks\":\"\"}},\"type\":\"scatterpolargl\"}],\"scatterpolar\":[{\"marker\":{\"colorbar\":{\"outlinewidth\":0,\"ticks\":\"\"}},\"type\":\"scatterpolar\"}],\"scatter\":[{\"fillpattern\":{\"fillmode\":\"overlay\",\"size\":10,\"solidity\":0.2},\"type\":\"scatter\"}],\"scatterternary\":[{\"marker\":{\"colorbar\":{\"outlinewidth\":0,\"ticks\":\"\"}},\"type\":\"scatterternary\"}],\"surface\":[{\"colorbar\":{\"outlinewidth\":0,\"ticks\":\"\"},\"colorscale\":[[0.0,\"#0d0887\"],[0.1111111111111111,\"#46039f\"],[0.2222222222222222,\"#7201a8\"],[0.3333333333333333,\"#9c179e\"],[0.4444444444444444,\"#bd3786\"],[0.5555555555555556,\"#d8576b\"],[0.6666666666666666,\"#ed7953\"],[0.7777777777777778,\"#fb9f3a\"],[0.8888888888888888,\"#fdca26\"],[1.0,\"#f0f921\"]],\"type\":\"surface\"}],\"table\":[{\"cells\":{\"fill\":{\"color\":\"#EBF0F8\"},\"line\":{\"color\":\"white\"}},\"header\":{\"fill\":{\"color\":\"#C8D4E3\"},\"line\":{\"color\":\"white\"}},\"type\":\"table\"}]},\"layout\":{\"annotationdefaults\":{\"arrowcolor\":\"#2a3f5f\",\"arrowhead\":0,\"arrowwidth\":1},\"autotypenumbers\":\"strict\",\"coloraxis\":{\"colorbar\":{\"outlinewidth\":0,\"ticks\":\"\"}},\"colorscale\":{\"diverging\":[[0,\"#8e0152\"],[0.1,\"#c51b7d\"],[0.2,\"#de77ae\"],[0.3,\"#f1b6da\"],[0.4,\"#fde0ef\"],[0.5,\"#f7f7f7\"],[0.6,\"#e6f5d0\"],[0.7,\"#b8e186\"],[0.8,\"#7fbc41\"],[0.9,\"#4d9221\"],[1,\"#276419\"]],\"sequential\":[[0.0,\"#0d0887\"],[0.1111111111111111,\"#46039f\"],[0.2222222222222222,\"#7201a8\"],[0.3333333333333333,\"#9c179e\"],[0.4444444444444444,\"#bd3786\"],[0.5555555555555556,\"#d8576b\"],[0.6666666666666666,\"#ed7953\"],[0.7777777777777778,\"#fb9f3a\"],[0.8888888888888888,\"#fdca26\"],[1.0,\"#f0f921\"]],\"sequentialminus\":[[0.0,\"#0d0887\"],[0.1111111111111111,\"#46039f\"],[0.2222222222222222,\"#7201a8\"],[0.3333333333333333,\"#9c179e\"],[0.4444444444444444,\"#bd3786\"],[0.5555555555555556,\"#d8576b\"],[0.6666666666666666,\"#ed7953\"],[0.7777777777777778,\"#fb9f3a\"],[0.8888888888888888,\"#fdca26\"],[1.0,\"#f0f921\"]]},\"colorway\":[\"#636efa\",\"#EF553B\",\"#00cc96\",\"#ab63fa\",\"#FFA15A\",\"#19d3f3\",\"#FF6692\",\"#B6E880\",\"#FF97FF\",\"#FECB52\"],\"font\":{\"color\":\"#2a3f5f\"},\"geo\":{\"bgcolor\":\"white\",\"lakecolor\":\"white\",\"landcolor\":\"white\",\"showlakes\":true,\"showland\":true,\"subunitcolor\":\"#C8D4E3\"},\"hoverlabel\":{\"align\":\"left\"},\"hovermode\":\"closest\",\"mapbox\":{\"style\":\"light\"},\"paper_bgcolor\":\"white\",\"plot_bgcolor\":\"white\",\"polar\":{\"angularaxis\":{\"gridcolor\":\"#EBF0F8\",\"linecolor\":\"#EBF0F8\",\"ticks\":\"\"},\"bgcolor\":\"white\",\"radialaxis\":{\"gridcolor\":\"#EBF0F8\",\"linecolor\":\"#EBF0F8\",\"ticks\":\"\"}},\"scene\":{\"xaxis\":{\"backgroundcolor\":\"white\",\"gridcolor\":\"#DFE8F3\",\"gridwidth\":2,\"linecolor\":\"#EBF0F8\",\"showbackground\":true,\"ticks\":\"\",\"zerolinecolor\":\"#EBF0F8\"},\"yaxis\":{\"backgroundcolor\":\"white\",\"gridcolor\":\"#DFE8F3\",\"gridwidth\":2,\"linecolor\":\"#EBF0F8\",\"showbackground\":true,\"ticks\":\"\",\"zerolinecolor\":\"#EBF0F8\"},\"zaxis\":{\"backgroundcolor\":\"white\",\"gridcolor\":\"#DFE8F3\",\"gridwidth\":2,\"linecolor\":\"#EBF0F8\",\"showbackground\":true,\"ticks\":\"\",\"zerolinecolor\":\"#EBF0F8\"}},\"shapedefaults\":{\"line\":{\"color\":\"#2a3f5f\"}},\"ternary\":{\"aaxis\":{\"gridcolor\":\"#DFE8F3\",\"linecolor\":\"#A2B1C6\",\"ticks\":\"\"},\"baxis\":{\"gridcolor\":\"#DFE8F3\",\"linecolor\":\"#A2B1C6\",\"ticks\":\"\"},\"bgcolor\":\"white\",\"caxis\":{\"gridcolor\":\"#DFE8F3\",\"linecolor\":\"#A2B1C6\",\"ticks\":\"\"}},\"title\":{\"x\":0.05},\"xaxis\":{\"automargin\":true,\"gridcolor\":\"#EBF0F8\",\"linecolor\":\"#EBF0F8\",\"ticks\":\"\",\"title\":{\"standoff\":15},\"zerolinecolor\":\"#EBF0F8\",\"zerolinewidth\":2},\"yaxis\":{\"automargin\":true,\"gridcolor\":\"#EBF0F8\",\"linecolor\":\"#EBF0F8\",\"ticks\":\"\",\"title\":{\"standoff\":15},\"zerolinecolor\":\"#EBF0F8\",\"zerolinewidth\":2}}},\"xaxis\":{\"anchor\":\"y\",\"domain\":[0.0,1.0],\"title\":{\"text\":\"Prix en \\u20ac pour une nuit\"}},\"yaxis\":{\"anchor\":\"x\",\"domain\":[0.0,1.0],\"title\":{\"text\":\"count\"}},\"legend\":{\"tracegroupgap\":0},\"margin\":{\"t\":60},\"barmode\":\"relative\",\"title\":{\"font\":{\"size\":20},\"text\":\"R\\u00e9partition des prix:\",\"x\":0.5}},                        {\"responsive\": true}                    ).then(function(){\n",
       "                            \n",
       "var gd = document.getElementById('be78a31a-9e4a-40c7-821a-966b5532b1da');\n",
       "var x = new MutationObserver(function (mutations, observer) {{\n",
       "        var display = window.getComputedStyle(gd).display;\n",
       "        if (!display || display === 'none') {{\n",
       "            console.log([gd, 'removed!']);\n",
       "            Plotly.purge(gd);\n",
       "            observer.disconnect();\n",
       "        }}\n",
       "}});\n",
       "\n",
       "// Listen for the removal of the full notebook cells\n",
       "var notebookContainer = gd.closest('#notebook-container');\n",
       "if (notebookContainer) {{\n",
       "    x.observe(notebookContainer, {childList: true});\n",
       "}}\n",
       "\n",
       "// Listen for the clearing of the current output cell\n",
       "var outputEl = gd.closest('.output');\n",
       "if (outputEl) {{\n",
       "    x.observe(outputEl, {childList: true});\n",
       "}}\n",
       "\n",
       "                        })                };                });            </script>        </div>"
      ]
     },
     "metadata": {},
     "output_type": "display_data"
    }
   ],
   "source": [
    "prixPlot('2', 'Tout')"
   ]
  },
  {
   "cell_type": "code",
   "execution_count": 9,
   "metadata": {},
   "outputs": [
    {
     "name": "stderr",
     "output_type": "stream",
     "text": [
      "/home/sarintt/anaconda3/envs/myenv/lib/python3.10/site-packages/dash/dash.py:538: UserWarning:\n",
      "\n",
      "JupyterDash is deprecated, use Dash instead.\n",
      "See https://dash.plotly.com/dash-in-jupyter for more details.\n",
      "\n"
     ]
    },
    {
     "ename": "TypeError",
     "evalue": "'NoneType' object cannot be interpreted as an integer",
     "output_type": "error",
     "traceback": [
      "\u001b[0;31m---------------------------------------------------------------------------\u001b[0m",
      "\u001b[0;31mTypeError\u001b[0m                                 Traceback (most recent call last)",
      "Cell \u001b[0;32mIn[9], line 60\u001b[0m\n\u001b[1;32m     52\u001b[0m     \u001b[38;5;28;01mreturn\u001b[39;00m fig\n\u001b[1;32m     54\u001b[0m app\u001b[38;5;241m.\u001b[39mlayout \u001b[38;5;241m=\u001b[39m dbc\u001b[38;5;241m.\u001b[39mContainer(\n\u001b[1;32m     55\u001b[0m     children \u001b[38;5;241m=\u001b[39m [cards3],\n\u001b[1;32m     56\u001b[0m     fluid \u001b[38;5;241m=\u001b[39m \u001b[38;5;28;01mTrue\u001b[39;00m,\n\u001b[1;32m     57\u001b[0m     className\u001b[38;5;241m=\u001b[39m\u001b[38;5;124m\"\u001b[39m\u001b[38;5;124mdbc\u001b[39m\u001b[38;5;124m\"\u001b[39m,\n\u001b[1;32m     58\u001b[0m     style\u001b[38;5;241m=\u001b[39m{\u001b[38;5;124m\"\u001b[39m\u001b[38;5;124mpadding\u001b[39m\u001b[38;5;124m\"\u001b[39m:\u001b[38;5;124m\"\u001b[39m\u001b[38;5;124m0px\u001b[39m\u001b[38;5;124m\"\u001b[39m}\n\u001b[1;32m     59\u001b[0m )\n\u001b[0;32m---> 60\u001b[0m \u001b[43mapp\u001b[49m\u001b[38;5;241;43m.\u001b[39;49m\u001b[43mrun_server\u001b[49m\u001b[43m(\u001b[49m\u001b[43mmode\u001b[49m\u001b[38;5;241;43m=\u001b[39;49m\u001b[38;5;124;43m'\u001b[39;49m\u001b[38;5;124;43minline\u001b[39;49m\u001b[38;5;124;43m'\u001b[39;49m\u001b[43m,\u001b[49m\u001b[43m \u001b[49m\u001b[43mport\u001b[49m\u001b[38;5;241;43m=\u001b[39;49m\u001b[38;5;124;43m'\u001b[39;49m\u001b[38;5;124;43m8888\u001b[39;49m\u001b[38;5;124;43m'\u001b[39;49m\u001b[43m)\u001b[49m\n",
      "File \u001b[0;32m~/anaconda3/envs/myenv/lib/python3.10/site-packages/jupyter_dash/jupyter_app.py:222\u001b[0m, in \u001b[0;36mJupyterDash.run_server\u001b[0;34m(self, mode, width, height, inline_exceptions, **kwargs)\u001b[0m\n\u001b[1;32m    220\u001b[0m old_server \u001b[38;5;241m=\u001b[39m \u001b[38;5;28mself\u001b[39m\u001b[38;5;241m.\u001b[39m_server_threads\u001b[38;5;241m.\u001b[39mget((host, port))\n\u001b[1;32m    221\u001b[0m \u001b[38;5;28;01mif\u001b[39;00m old_server:\n\u001b[0;32m--> 222\u001b[0m     \u001b[43mold_server\u001b[49m\u001b[38;5;241;43m.\u001b[39;49m\u001b[43mkill\u001b[49m\u001b[43m(\u001b[49m\u001b[43m)\u001b[49m\n\u001b[1;32m    223\u001b[0m     old_server\u001b[38;5;241m.\u001b[39mjoin()\n\u001b[1;32m    224\u001b[0m     \u001b[38;5;28;01mdel\u001b[39;00m \u001b[38;5;28mself\u001b[39m\u001b[38;5;241m.\u001b[39m_server_threads[(host, port)]\n",
      "File \u001b[0;32m~/anaconda3/envs/myenv/lib/python3.10/site-packages/jupyter_dash/_stoppable_thread.py:16\u001b[0m, in \u001b[0;36mStoppableThread.kill\u001b[0;34m(self)\u001b[0m\n\u001b[1;32m     13\u001b[0m \u001b[38;5;28;01mdef\u001b[39;00m \u001b[38;5;21mkill\u001b[39m(\u001b[38;5;28mself\u001b[39m):\n\u001b[1;32m     14\u001b[0m     thread_id \u001b[38;5;241m=\u001b[39m \u001b[38;5;28mself\u001b[39m\u001b[38;5;241m.\u001b[39mget_id()\n\u001b[1;32m     15\u001b[0m     res \u001b[38;5;241m=\u001b[39m ctypes\u001b[38;5;241m.\u001b[39mpythonapi\u001b[38;5;241m.\u001b[39mPyThreadState_SetAsyncExc(\n\u001b[0;32m---> 16\u001b[0m         \u001b[43mctypes\u001b[49m\u001b[38;5;241;43m.\u001b[39;49m\u001b[43mc_long\u001b[49m\u001b[43m(\u001b[49m\u001b[43mthread_id\u001b[49m\u001b[43m)\u001b[49m, ctypes\u001b[38;5;241m.\u001b[39mpy_object(\u001b[38;5;167;01mSystemExit\u001b[39;00m)\n\u001b[1;32m     17\u001b[0m     )\n\u001b[1;32m     18\u001b[0m     \u001b[38;5;28;01mif\u001b[39;00m res \u001b[38;5;241m==\u001b[39m \u001b[38;5;241m0\u001b[39m:\n\u001b[1;32m     19\u001b[0m         \u001b[38;5;28;01mraise\u001b[39;00m \u001b[38;5;167;01mValueError\u001b[39;00m(\u001b[38;5;124mf\u001b[39m\u001b[38;5;124m\"\u001b[39m\u001b[38;5;124mInvalid thread id: \u001b[39m\u001b[38;5;132;01m{\u001b[39;00mthread_id\u001b[38;5;132;01m}\u001b[39;00m\u001b[38;5;124m\"\u001b[39m)\n",
      "\u001b[0;31mTypeError\u001b[0m: 'NoneType' object cannot be interpreted as an integer"
     ]
    }
   ],
   "source": [
    "#Répartition des prix\n",
    "\n",
    "app = JupyterDash(__name__, external_stylesheets=[dbc.themes.FLATLY])\n",
    "\n",
    "prixPlotCallback = dbc.Card(\n",
    "    children=[\n",
    "        html.Label(\"Choisir l'arrondissement:\"),\n",
    "        dcc.Dropdown(['Tout']+list(nomToNumero.values()),\n",
    "                     value='Tout',\n",
    "                     id='dropdown_graph4',\n",
    "                     clearable=False),\n",
    "        html.Br(),\n",
    "        html.Label('Nombre de chambres:'),\n",
    "        dcc.RadioItems([\"Tout\",\"1\",\"2\",\"3\"], value='Tout', id='radio_graph4')\n",
    "], body=True)\n",
    "\n",
    "cards3 = html.Div(children=[\n",
    "    dbc.Row([\n",
    "        dbc.Col([dbc.Card(children=[dcc.Graph(id=\"graph4\")])], \n",
    "            width=9),\n",
    "        dbc.Col(prixPlotCallback, width=3)\n",
    "        ],\n",
    "    align=\"start\")\n",
    "    ])\n",
    "\n",
    "@app.callback(\n",
    "    Output('graph4', 'figure'),\n",
    "    Input('radio_graph4', 'value'),\n",
    "    Input('dropdown_graph4', 'value'))\n",
    "def prixPlot(chambres, arrond):\n",
    "    prix = repartition[['price', 'neighbourhood_cleansed', 'bedrooms']]\n",
    "    if chambres != 'Tout':\n",
    "        prix = prix.loc[(prix['bedrooms'] == int(chambres))]\n",
    "    if arrond != 'Tout':\n",
    "        prix = prix.loc[(prix['neighbourhood_cleansed'] == numeroToNom[arrond])]\n",
    "    #considérons que 93% des valeurs sinon distribution trop grande, graphique moche\n",
    "    low, high = np.percentile(prix['price'], 0), np.percentile(prix['price'], 93) \n",
    "    prix = prix.loc[(prix['price'] < high) & (prix['price'] >= low)]['price']\n",
    "    prix = prix.rename(\"Prix en € pour une nuit\")\n",
    "    fig = px.histogram(prix, x=\"Prix en € pour une nuit\", \n",
    "                       nbins=30, \n",
    "                       color_discrete_sequence=['indianred'],\n",
    "                       template=\"plotly_white\"\n",
    "                       )\n",
    "    fig.update_layout(title={\n",
    "        \"text\":\"Répartition des prix:\",\n",
    "        \"x\":0.5,\n",
    "        \"font\":{\n",
    "            \"size\":20\n",
    "        }\n",
    "    })\n",
    "    return fig\n",
    "\n",
    "app.layout = dbc.Container(\n",
    "    children = [cards3],\n",
    "    fluid = True,\n",
    "    className=\"dbc\",\n",
    "    style={\"padding\":\"0px\"}\n",
    ")\n",
    "app.run_server(mode='inline', port='8888')"
   ]
  },
  {
   "cell_type": "code",
   "execution_count": null,
   "metadata": {},
   "outputs": [],
   "source": []
  }
 ],
 "metadata": {
  "kernelspec": {
   "display_name": "Python 3.9.12 ('datap')",
   "language": "python",
   "name": "python3"
  },
  "language_info": {
   "codemirror_mode": {
    "name": "ipython",
    "version": 3
   },
   "file_extension": ".py",
   "mimetype": "text/x-python",
   "name": "python",
   "nbconvert_exporter": "python",
   "pygments_lexer": "ipython3",
   "version": "3.10.13"
  },
  "orig_nbformat": 4,
  "vscode": {
   "interpreter": {
    "hash": "55d9cb2336d42dc702ea94e48c4f79a35de8c03fcfc2dab0c47e77a8e0c1d4f2"
   }
  }
 },
 "nbformat": 4,
 "nbformat_minor": 2
}
